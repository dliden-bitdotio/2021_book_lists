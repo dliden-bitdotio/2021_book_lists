{
 "cells": [
  {
   "cell_type": "code",
   "execution_count": 37,
   "metadata": {},
   "outputs": [],
   "source": [
    "from sqlalchemy import create_engine\n",
    "import pandas as pd\n",
    "from dotenv import load_dotenv\n",
    "import numpy as np\n",
    "\n",
    "import os\n",
    "\n",
    "load_dotenv()\n",
    "\n",
    "PG_STRING = os.getenv(\"BITIO_PG_STRING\")\n",
    "BOOKLIST_TABLE = '\"bitdotio/best books 2021\".\"list_of_lists\"'\n",
    "MEDIA_TABLE = '\"bitdotio/best books 2021\".\"media_lists\"'\n",
    "CELEB_TABLE = '\"bitdotio/best books 2021\".\"individual_lists\"'\n",
    "RANK_TABLE = '\"bitdotio/best books 2021\".\"book_ranks\"'"
   ]
  },
  {
   "cell_type": "markdown",
   "metadata": {},
   "source": [
    "# Analysis of End-of-Year Book Lists\n",
    "\n",
    "Find the data [here](https://bit.io/bitdotio/best%20books%202021#)."
   ]
  },
  {
   "cell_type": "markdown",
   "metadata": {},
   "source": [
    "# The Data\n",
    "The data can be found in [this bit.io repository](https://bit.io/bitdotio/best%20books%202021#). Other good sources for aggregate end-of-year lists include:\n",
    "- [yearendlists.com](https://www.yearendlists.com/) which also includes lists for TV, music, movies, and more.\n",
    "- [The Ultimate Best Books of 2021 List (Lithub)](https://lithub.com/the-ultimate-best-books-of-2021-list/) which aggregates many year-end lists to obtain a \"definitive\" year-end list.\n",
    "\n",
    "## How We Got the Data\n",
    "We looked at all of the book lists for 2021 on [yearendlists.com](https://www.yearendlists.com/) to identify the lists. We followed a few key principles in selecting sources:\n",
    "- Look for Discriminating Sources: the lists included ten books or fewer (the publications have to narrow the books to a list of favorites. a [list of 100](https://time.com/collection/100-must-read-books-2021/) doesn't help us in finding a consensus \"best book.\")\n",
    "- Use High-profile sources: we didn't have specific criteria for this one, but in general, we looked for lists from well-known individuals or media sources, not from any blog with a book list we could find on the Internet.\n",
    "- Prefer generality: We looked for \"best books\" list, not \"best fiction\" or \"best science fiction\" or other sub-classifications of books. In one case (TIME), we took both the \"top fiction\" and \"top nonfiction\" lists rather than omitting the publication entirely.\n",
    "- Avoid redundancy: Use only a single list (or, in the case of TIME, two non-overlapping lists) per source. We don't want to count a single book more than once for a given source.\n",
    "\n",
    "## Obtain the data from bit.io"
   ]
  },
  {
   "cell_type": "code",
   "execution_count": 7,
   "metadata": {},
   "outputs": [],
   "source": [
    "# Helper Fucntion for Downloading Datasets\n",
    "def download_dataset(target, pg_string):\n",
    "    engine = create_engine(pg_string)\n",
    "    # SQL for querying an entire table\n",
    "    sql = f\"\"\"\n",
    "        SELECT *\n",
    "        FROM {target};\n",
    "    \"\"\"\n",
    "    # Return SQL query as a pandas dataframe\n",
    "    with engine.connect() as conn:\n",
    "        # Set 1 minute statement timeout (units are milliseconds)\n",
    "        conn.execute(\"SET statement_timeout = 60000;\")\n",
    "        df = pd.read_sql(sql, conn)\n",
    "    return df\n",
    "\n",
    "df_media = download_dataset(MEDIA_TABLE, PG_STRING)\n",
    "df_individual = download_dataset(CELEB_TABLE, PG_STRING)\n",
    "df_rank = download_dataset(RANK_TABLE, PG_STRING)"
   ]
  },
  {
   "cell_type": "code",
   "execution_count": 10,
   "metadata": {},
   "outputs": [
    {
     "data": {
      "text/html": [
       "<div>\n",
       "<style scoped>\n",
       "    .dataframe tbody tr th:only-of-type {\n",
       "        vertical-align: middle;\n",
       "    }\n",
       "\n",
       "    .dataframe tbody tr th {\n",
       "        vertical-align: top;\n",
       "    }\n",
       "\n",
       "    .dataframe thead th {\n",
       "        text-align: right;\n",
       "    }\n",
       "</style>\n",
       "<table border=\"1\" class=\"dataframe\">\n",
       "  <thead>\n",
       "    <tr style=\"text-align: right;\">\n",
       "      <th></th>\n",
       "      <th>source</th>\n",
       "      <th>title</th>\n",
       "      <th>author</th>\n",
       "      <th>link</th>\n",
       "      <th>rank</th>\n",
       "    </tr>\n",
       "  </thead>\n",
       "  <tbody>\n",
       "    <tr>\n",
       "      <th>0</th>\n",
       "      <td>Vulture</td>\n",
       "      <td>Dear Senthuran: A Black Spirit Memoir</td>\n",
       "      <td>Akwaeke Emezi</td>\n",
       "      <td>https://www.vulture.com/article/best-books-of-...</td>\n",
       "      <td>1</td>\n",
       "    </tr>\n",
       "    <tr>\n",
       "      <th>1</th>\n",
       "      <td>Wall Street Journal</td>\n",
       "      <td>Robert E. Lee: A Life</td>\n",
       "      <td>Allen C. Guelzo</td>\n",
       "      <td>https://www.wsj.com/articles/the-10-best-books...</td>\n",
       "      <td>1</td>\n",
       "    </tr>\n",
       "    <tr>\n",
       "      <th>2</th>\n",
       "      <td>Barnes &amp; Noble</td>\n",
       "      <td>Call Us What We Carry</td>\n",
       "      <td>Amanda Gorman</td>\n",
       "      <td>https://www.barnesandnoble.com/b/books/barnes-...</td>\n",
       "      <td>1</td>\n",
       "    </tr>\n",
       "    <tr>\n",
       "      <th>3</th>\n",
       "      <td>TIME</td>\n",
       "      <td>Invisible Child: Poverty, Survival &amp; Hope in a...</td>\n",
       "      <td>Andrea Elliott</td>\n",
       "      <td>https://time.com/6125895/best-nonfiction-books...</td>\n",
       "      <td>2</td>\n",
       "    </tr>\n",
       "    <tr>\n",
       "      <th>4</th>\n",
       "      <td>New York Times</td>\n",
       "      <td>Invisible Child: Poverty, Survival &amp; Hope in a...</td>\n",
       "      <td>Andrea Elliott</td>\n",
       "      <td>https://www.nytimes.com/2021/11/30/books/revie...</td>\n",
       "      <td>2</td>\n",
       "    </tr>\n",
       "    <tr>\n",
       "      <th>...</th>\n",
       "      <td>...</td>\n",
       "      <td>...</td>\n",
       "      <td>...</td>\n",
       "      <td>...</td>\n",
       "      <td>...</td>\n",
       "    </tr>\n",
       "    <tr>\n",
       "      <th>160</th>\n",
       "      <td>New York Times</td>\n",
       "      <td>The Copenhagen Trilogy: Childhood; Youth; Depe...</td>\n",
       "      <td>Tove Ditlevsen</td>\n",
       "      <td>https://www.nytimes.com/2021/11/30/books/revie...</td>\n",
       "      <td>3</td>\n",
       "    </tr>\n",
       "    <tr>\n",
       "      <th>161</th>\n",
       "      <td>NPR Fresh Air</td>\n",
       "      <td>We Run the Tides</td>\n",
       "      <td>Vendela Vida</td>\n",
       "      <td>https://www.npr.org/2021/12/13/1060830513/maur...</td>\n",
       "      <td>1</td>\n",
       "    </tr>\n",
       "    <tr>\n",
       "      <th>162</th>\n",
       "      <td>Slate</td>\n",
       "      <td>The Committed</td>\n",
       "      <td>Viet Thanh Nguyen</td>\n",
       "      <td>https://slate.com/culture/2021/12/best-books-2...</td>\n",
       "      <td>1</td>\n",
       "    </tr>\n",
       "    <tr>\n",
       "      <th>163</th>\n",
       "      <td>New York Public Library</td>\n",
       "      <td>All Her Little Secrets</td>\n",
       "      <td>Wanda M. Morris</td>\n",
       "      <td>https://www.nypl.org/blog/2021/11/23/introduci...</td>\n",
       "      <td>1</td>\n",
       "    </tr>\n",
       "    <tr>\n",
       "      <th>164</th>\n",
       "      <td>NPR Fresh Air</td>\n",
       "      <td>Skinship</td>\n",
       "      <td>Yoon Choi</td>\n",
       "      <td>https://www.npr.org/2021/12/13/1060830513/maur...</td>\n",
       "      <td>1</td>\n",
       "    </tr>\n",
       "  </tbody>\n",
       "</table>\n",
       "<p>165 rows × 5 columns</p>\n",
       "</div>"
      ],
      "text/plain": [
       "                      source  \\\n",
       "0                    Vulture   \n",
       "1        Wall Street Journal   \n",
       "2             Barnes & Noble   \n",
       "3                       TIME   \n",
       "4             New York Times   \n",
       "..                       ...   \n",
       "160           New York Times   \n",
       "161            NPR Fresh Air   \n",
       "162                    Slate   \n",
       "163  New York Public Library   \n",
       "164            NPR Fresh Air   \n",
       "\n",
       "                                                 title             author  \\\n",
       "0                Dear Senthuran: A Black Spirit Memoir      Akwaeke Emezi   \n",
       "1                                Robert E. Lee: A Life    Allen C. Guelzo   \n",
       "2                                Call Us What We Carry      Amanda Gorman   \n",
       "3    Invisible Child: Poverty, Survival & Hope in a...     Andrea Elliott   \n",
       "4    Invisible Child: Poverty, Survival & Hope in a...     Andrea Elliott   \n",
       "..                                                 ...                ...   \n",
       "160  The Copenhagen Trilogy: Childhood; Youth; Depe...     Tove Ditlevsen   \n",
       "161                                   We Run the Tides       Vendela Vida   \n",
       "162                                      The Committed  Viet Thanh Nguyen   \n",
       "163                             All Her Little Secrets    Wanda M. Morris   \n",
       "164                                           Skinship          Yoon Choi   \n",
       "\n",
       "                                                  link  rank  \n",
       "0    https://www.vulture.com/article/best-books-of-...     1  \n",
       "1    https://www.wsj.com/articles/the-10-best-books...     1  \n",
       "2    https://www.barnesandnoble.com/b/books/barnes-...     1  \n",
       "3    https://time.com/6125895/best-nonfiction-books...     2  \n",
       "4    https://www.nytimes.com/2021/11/30/books/revie...     2  \n",
       "..                                                 ...   ...  \n",
       "160  https://www.nytimes.com/2021/11/30/books/revie...     3  \n",
       "161  https://www.npr.org/2021/12/13/1060830513/maur...     1  \n",
       "162  https://slate.com/culture/2021/12/best-books-2...     1  \n",
       "163  https://www.nypl.org/blog/2021/11/23/introduci...     1  \n",
       "164  https://www.npr.org/2021/12/13/1060830513/maur...     1  \n",
       "\n",
       "[165 rows x 5 columns]"
      ]
     },
     "execution_count": 10,
     "metadata": {},
     "output_type": "execute_result"
    }
   ],
   "source": [
    "df_media = df_media.merge(df_rank, how=\"left\", left_on=\"title\", right_on=\"title\").rename(columns={'count':'rank'})\n",
    "df_individual = df_individual.merge(df_rank, how=\"left\", left_on=\"title\", right_on=\"title\").rename(columns={'count':'rank'})\n",
    "\n",
    "df_media"
   ]
  },
  {
   "cell_type": "code",
   "execution_count": 21,
   "metadata": {},
   "outputs": [
    {
     "data": {
      "text/plain": [
       "\"Dear Senthuran: A Black Spirit Memoir (Akwaeke Emezi), Robert E. Lee: A Life (Allen C. Guelzo), Call Us What We Carry (Amanda Gorman), On Juneteenth (Annette Gordon-Reed), Heard-Hoard (Atsuro Riley), The War for Gloria (Atticus Lish), A Touch of Jen (Beth Morgan), The Rock Eaters (Brenda Peynado), Burnt Toast and Other Disasters: A Book of Heroic Hacks, Fabulous Fixes, and Secret Sauces (Cal Peternell), Open Water (Caleb Azumah Nelson), Mama Phife Represents (Cheryl Boyce-Taylor), The Life of the Mind (Christine Smallwood), I Love You But I've Chosen Darkness (Claire Vaye Watkins), The Afghanistan Papers: A Secret History of the War (Craig Whitlock), The Kissing Bug: A True Story of a Family, an Insect, and a Nation's Neglect of a Deadly Disease (Daisy Hernández), Wayward (Dana Spiotta), An Inventory of Losses (Judith Schalansky), You Will Get through This Night (Daniel Howell), One Friday in April: A Story of Suicide and Survival (Donald Antrim), The Strategy of Denial: American Defense in an Age of Great Power Conflict (Elbridge A. Colby), Under a White Sky: The Nature of the Future (Elizabeth Kolbert), Oh William! (Elizabeth Strout), Three-Martini Afternoons at the Ritz: The Rebellion of Sylvia Plath & Anne Sexton (Gail Crowther), Red Comet: The Short Life and Blazing Art of Sylvia Plath (Heather Clark), Shadow Life (Hiromi Goto), How Beautiful We Were (Imbolo Mbue), Look for Me and I'll Be Gone (John Edgar Wideman), The Netanyahus: An Account of a Minor and Ultimately Even Negligible Episode in the History of a Very Famous Family (Joshua Cohen), Things I Have Withheld (Kei Miller), A Shock (Keith Ridgway), The Five Wounds (Kirstin Valdez Quade), Leaving Isn't the Hardest Thing (Lauren Hough), On Freedom: Four Songs of Care and Constraint (Maggie Nelson), The Dangers of Smoking in Bed (Mariana Enriquez), Appleseed (Matt Bell), Milk Fed (Melissa Broder), Beloved Beasts: Fighting for Life in an Age of Extinction (Michelle Nijhuis), Aftershocks (Nadia Owusu), Assembly (Natasha Brown), Voyagers: The Settlement of the Pacific (Nicholas Thomas), The 1619 Project: A New Origin Story (Nikole Hannah-Jones), 100 Things We've Lost to the Internet (Pamela Paul), Infinite Country (Patricia Engel), The Lyrics: 1956 to the Present (Paul McCartney), The Trees (Percival Everett), Nightbitch (Rachel Yoder), City of a Thousand Gates (Rebecca Sacks), Bewilderment (Richard Powers), The Man Who Lived Underground (Richard Wright), Trafik (Rikki Ducornet), Everyone Knows Your Mother Is a Witch (Rivka Galchen), The Transcendentalists and Their World (Robert A. Gross), Street Cop (Robert Coover and Art Spiegelman), Light From Uncommon Stars (Ryka Aoki), Gold Diggers (Sanjena Sathian), Smile: The Story of a Face (Sarah Ruhl), She Who Became the Sun (Shelley Parker-Chan), My Heart Is a Chainsaw (Stephen Graham Jones), Act Your Age, Eve Brown (Talia Hibbert), Land of Big Numbers (Te-Ping Chen), Under the Whispering Door (TJ Klune), We Run the Tides (Vendela Vida), The Committed (Viet Thanh Nguyen), All Her Little Secrets (Wanda M. Morris), Skinship (Yoon Choi)\""
      ]
     },
     "execution_count": 21,
     "metadata": {},
     "output_type": "execute_result"
    }
   ],
   "source": [
    "# List Appearing Once\n",
    "df_media['title_author'] = df_media.title.values + ' (' + df_media.author.values + ')'\n",
    "once = (df_media\n",
    ".loc[df_media['rank']==1, :]\n",
    ".loc[:,'title_author']\n",
    ".values\n",
    ")\n",
    "\", \".join(once)"
   ]
  },
  {
   "cell_type": "code",
   "execution_count": 57,
   "metadata": {},
   "outputs": [
    {
     "name": "stdout",
     "output_type": "stream",
     "text": [
      "Barnes & Noble\n",
      "Chicago Public Library\n",
      "Chicago Tribune\n",
      "Entertainment Weekly\n",
      "KCRW\n",
      "Los Angeles Times\n",
      "NPR Fresh Air\n",
      "New York Public Library\n",
      "New York Times\n",
      "Publishers Weekly\n",
      "Slate\n",
      "TIME\n",
      "The Philadelphia Inquirer\n",
      "Vulture\n",
      "Wall Street Journal\n",
      "Washington Post\n"
     ]
    }
   ],
   "source": [
    "names = []\n",
    "props = []\n",
    "counts = []\n",
    "\n",
    "groups = df_media.groupby('source')\n",
    "for name, group in groups:\n",
    "    print(name)\n",
    "    others = df_media.loc[df_media['source'] != name]\n",
    "    length = group.shape[0]\n",
    "    titles = group['title']\n",
    "    num = titles.isin(others['title'])\n",
    "    n_times = (others['title'].isin(titles)).sum()\n",
    "    counts.append(n_times)\n",
    "    props.append(num.mean())\n",
    "    names.append(name)\n",
    "\n",
    "pd.DataFrame({'source':names, 'prop':props, 'times':counts}).sort_values('prop', ascending=False)"
   ]
  },
  {
   "cell_type": "code",
   "execution_count": 62,
   "metadata": {},
   "outputs": [
    {
     "data": {
      "text/html": [
       "<div>\n",
       "<style scoped>\n",
       "    .dataframe tbody tr th:only-of-type {\n",
       "        vertical-align: middle;\n",
       "    }\n",
       "\n",
       "    .dataframe tbody tr th {\n",
       "        vertical-align: top;\n",
       "    }\n",
       "\n",
       "    .dataframe thead th {\n",
       "        text-align: right;\n",
       "    }\n",
       "</style>\n",
       "<table border=\"1\" class=\"dataframe\">\n",
       "  <thead>\n",
       "    <tr style=\"text-align: right;\">\n",
       "      <th></th>\n",
       "      <th>source</th>\n",
       "      <th>prop</th>\n",
       "      <th>times</th>\n",
       "    </tr>\n",
       "  </thead>\n",
       "  <tbody>\n",
       "    <tr>\n",
       "      <th>0</th>\n",
       "      <td>Barack Obama</td>\n",
       "      <td>0.692308</td>\n",
       "      <td>33</td>\n",
       "    </tr>\n",
       "    <tr>\n",
       "      <th>1</th>\n",
       "      <td>Bill Gates</td>\n",
       "      <td>0.200000</td>\n",
       "      <td>5</td>\n",
       "    </tr>\n",
       "  </tbody>\n",
       "</table>\n",
       "</div>"
      ],
      "text/plain": [
       "         source      prop  times\n",
       "0  Barack Obama  0.692308     33\n",
       "1    Bill Gates  0.200000      5"
      ]
     },
     "execution_count": 62,
     "metadata": {},
     "output_type": "execute_result"
    }
   ],
   "source": [
    "names_i = []\n",
    "props_i = []\n",
    "counts_i = []\n",
    "\n",
    "groups = df_individual.groupby('source')\n",
    "for name, group in groups:\n",
    "  #  print(name)\n",
    "    others = df_media.loc[df_media['source'] != name]\n",
    "    length = group.shape[0]\n",
    "    titles = group['title']\n",
    "    num = titles.isin(others['title'])\n",
    "    n_times = (others['title'].isin(titles)).sum()\n",
    "    counts_i.append(n_times)\n",
    "    props_i.append(num.mean())\n",
    "    names_i.append(name)\n",
    "\n",
    "pd.DataFrame({'source':names_i, 'prop':props_i, 'times':counts_i}).sort_values('prop', ascending=False)\n",
    "\n"
   ]
  },
  {
   "cell_type": "code",
   "execution_count": 64,
   "metadata": {},
   "outputs": [
    {
     "data": {
      "text/plain": [
       "0.6923076923076923"
      ]
     },
     "execution_count": 64,
     "metadata": {},
     "output_type": "execute_result"
    }
   ],
   "source": []
  },
  {
   "cell_type": "code",
   "execution_count": null,
   "metadata": {},
   "outputs": [],
   "source": []
  }
 ],
 "metadata": {
  "interpreter": {
   "hash": "fcc7d798c15eb5c864e91a544c912c0c98f7bc35c7603012c9227a90d7ea3bd4"
  },
  "kernelspec": {
   "display_name": "Python 3.9.7 64-bit ('env': venv)",
   "language": "python",
   "name": "python3"
  },
  "language_info": {
   "codemirror_mode": {
    "name": "ipython",
    "version": 3
   },
   "file_extension": ".py",
   "mimetype": "text/x-python",
   "name": "python",
   "nbconvert_exporter": "python",
   "pygments_lexer": "ipython3",
   "version": "3.9.7"
  },
  "orig_nbformat": 4
 },
 "nbformat": 4,
 "nbformat_minor": 2
}
